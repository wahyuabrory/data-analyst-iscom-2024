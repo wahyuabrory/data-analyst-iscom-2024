{
  "cells": [
    {
      "cell_type": "markdown",
      "metadata": {
        "id": "b-sEgcYDR0FY"
      },
      "source": [
        "## INTRO GOOGLE COLABS"
      ]
    },
    {
      "cell_type": "code",
      "execution_count": 1,
      "metadata": {
        "colab": {
          "base_uri": "https://localhost:8080/"
        },
        "id": "rpg-0pf0SApC",
        "outputId": "f0def6a1-ae27-485b-f22d-3b6997be8a93"
      },
      "outputs": [
        {
          "name": "stdout",
          "output_type": "stream",
          "text": [
            "Hello Abrory\n"
          ]
        }
      ],
      "source": [
        "#Ini adalah baris komentar/comment. Baris ini tidak akan dieksekusi.\n",
        "#Gunakan tanda `#` untuk membuat komentar\n",
        "#Gunakan komentar untuk memberi keterangan dalam baris kode yang Anda buat\n",
        "\n",
        "print(\"Hello Abrory\") #kode pertama untuk menampilkan kalimat\n",
        "\n"
      ]
    },
    {
      "cell_type": "markdown",
      "metadata": {
        "id": "lYUDDZTcSEV3"
      },
      "source": [
        "Ini adalah contoh blok text.\n",
        "Kita dapat memasukkan catatan, keterangan, membuat judul section dengan menggunakan blok text ini."
      ]
    },
    {
      "cell_type": "markdown",
      "metadata": {
        "id": "TgCqePQVQDGX"
      },
      "source": [
        "## DASAR PEMROGRAMAN PYTHON"
      ]
    },
    {
      "cell_type": "markdown",
      "metadata": {
        "id": "eVPdFN-0QJ2H"
      },
      "source": [
        "### Variabel"
      ]
    },
    {
      "cell_type": "code",
      "execution_count": 2,
      "metadata": {
        "id": "KYuBVLSqWCMn"
      },
      "outputs": [],
      "source": [
        "#contoh variabel dengan berbagai nila\n",
        "nama = \"John\"\n",
        "umur = 25\n",
        "berat_badan = 70.5"
      ]
    },
    {
      "cell_type": "code",
      "execution_count": 3,
      "metadata": {
        "colab": {
          "base_uri": "https://localhost:8080/"
        },
        "id": "NIBVOXvrTvDV",
        "outputId": "931dae6b-b49d-4a44-d104-eb51c3f3401e"
      },
      "outputs": [
        {
          "name": "stdout",
          "output_type": "stream",
          "text": [
            "John\n",
            "25\n",
            "70.5\n"
          ]
        }
      ],
      "source": [
        "print(nama)\n",
        "print(umur)\n",
        "print(berat_badan)"
      ]
    },
    {
      "cell_type": "code",
      "execution_count": 4,
      "metadata": {
        "colab": {
          "base_uri": "https://localhost:8080/"
        },
        "id": "hyMJMUFfTeUf",
        "outputId": "e7e984f9-fccc-4d92-f911-04bd651d81c1"
      },
      "outputs": [
        {
          "name": "stdout",
          "output_type": "stream",
          "text": [
            "26\n",
            "Mengubah nilai variabel umur\n",
            "30\n"
          ]
        }
      ],
      "source": [
        "umur = 26\n",
        "print(umur)\n",
        "print(\"Mengubah nilai variabel umur\")\n",
        "umur = 30\n",
        "print(umur)"
      ]
    },
    {
      "cell_type": "markdown",
      "metadata": {
        "id": "ZQ9j2d-yQMvh"
      },
      "source": [
        "### Tipe Data"
      ]
    },
    {
      "cell_type": "code",
      "execution_count": 5,
      "metadata": {
        "colab": {
          "base_uri": "https://localhost:8080/"
        },
        "id": "U-yvwtvcT_uS",
        "outputId": "ebc640dc-d0fe-4798-fdac-0649e509f8a3"
      },
      "outputs": [
        {
          "name": "stdout",
          "output_type": "stream",
          "text": [
            "=======INTEGER======\n",
            "5\n",
            "<class 'int'>\n",
            "===================\n",
            "\n",
            "\n",
            "\n",
            "=======FLOAT======\n",
            "3.14\n",
            "<class 'float'>\n",
            "===================\n",
            "\n",
            "\n",
            "\n",
            "=======STRING======\n",
            "halo, ini adalah contoh kalimat\n",
            "<class 'str'>\n",
            "===================\n",
            "\n",
            "\n",
            "\n",
            "=======BOOLEAN======\n",
            "True\n",
            "False\n",
            "<class 'bool'>\n",
            "<class 'bool'>\n",
            "===================\n",
            "\n",
            "\n",
            "\n",
            "=======LIST======\n",
            "[1, 'dua', 3, 'empat', 5]\n",
            "<class 'list'>\n",
            "===================\n",
            "\n",
            "\n",
            "\n",
            "=======TUPLE======\n",
            "(1, 3, 5, 7, 11, 13)\n",
            "<class 'tuple'>\n",
            "===================\n",
            "\n",
            "\n",
            "\n",
            "=======SET======\n",
            "{2, 4, 6, 8, 10}\n",
            "<class 'set'>\n",
            "===================\n",
            "\n",
            "\n",
            "\n",
            "=======DICTIONARY======\n",
            "{'kelas': 'Matahari', 'nama': 'Lia', 'umur': 3}\n",
            "<class 'dict'>\n",
            "===================\n",
            "\n",
            "\n",
            "\n"
          ]
        }
      ],
      "source": [
        "# Tipe data integer\n",
        "bilangan_bulat = 5\n",
        "print(\"=======INTEGER======\")\n",
        "print(bilangan_bulat)\n",
        "print(type(bilangan_bulat))    # Output: <class 'int'>\n",
        "print(\"===================\\n\\n\\n\")\n",
        "\n",
        "# Tipe data float\n",
        "bilangan_desimal = 3.14\n",
        "print(\"=======FLOAT======\")\n",
        "print(bilangan_desimal)\n",
        "print(type(bilangan_desimal))    # Output: <class 'float'>\n",
        "print(\"===================\\n\\n\\n\")\n",
        "\n",
        "# Tipe data string\n",
        "kalimat = 'halo, ini adalah contoh kalimat'\n",
        "print(\"=======STRING======\")\n",
        "print(kalimat)\n",
        "print(type(kalimat))    # Output: <class 'str'>\n",
        "print(\"===================\\n\\n\\n\")\n",
        "\n",
        "# Tipe data boolean\n",
        "nilai_benar = True\n",
        "nilai_salah = False\n",
        "print(\"=======BOOLEAN======\")\n",
        "print(nilai_benar)\n",
        "print(nilai_salah)\n",
        "print(type(nilai_benar))    # Output: <class 'bool'>\n",
        "print(type(nilai_salah))    # Output: <class 'bool'>\n",
        "print(\"===================\\n\\n\\n\")\n",
        "\n",
        "# Tipe data list\n",
        "daftar_acak = [1, \"dua\", 3, \"empat\", 5]\n",
        "print(\"=======LIST======\")\n",
        "print(daftar_acak)\n",
        "print(type(daftar_acak))    # Output: <class 'list'>\n",
        "print(\"===================\\n\\n\\n\")\n",
        "\n",
        "# Tipe data tuple\n",
        "bilangan_prima = (1, 3, 5, 7, 11, 13)\n",
        "print(\"=======TUPLE======\")\n",
        "print(bilangan_prima)\n",
        "print(type(bilangan_prima))    # Output: <class 'tuple'>\n",
        "print(\"===================\\n\\n\\n\")\n",
        "\n",
        "# Tipe data set\n",
        "himpunan_genap = {2, 4, 6, 8, 10}\n",
        "print(\"=======SET======\")\n",
        "print(himpunan_genap)\n",
        "print(type(himpunan_genap))    # Output: <class 'set'>\n",
        "print(\"===================\\n\\n\\n\")\n",
        "\n",
        "# Tipe data dictionary\n",
        "data_siswa = {'kelas': 'Matahari', 'nama': \"Lia\", \"umur\": 3}\n",
        "print(\"=======DICTIONARY======\")\n",
        "print(data_siswa)\n",
        "print(type(data_siswa))    # Output: <class 'dict'>\n",
        "print(\"===================\\n\\n\\n\")\n",
        "\n"
      ]
    },
    {
      "cell_type": "code",
      "execution_count": 6,
      "metadata": {
        "colab": {
          "base_uri": "https://localhost:8080/"
        },
        "id": "RQluDITqVFMZ",
        "outputId": "ffe358f3-f1d8-40cc-fe21-207d1c8d10b6"
      },
      "outputs": [
        {
          "name": "stdout",
          "output_type": "stream",
          "text": [
            "<class 'datetime.date'>\n"
          ]
        }
      ],
      "source": [
        "from datetime import date\n",
        "\n",
        "# Tipe data tanggal/date\n",
        "hari_ini = date.today()\n",
        "print(type(hari_ini))    # Output: <class 'date'>\n",
        "\n"
      ]
    },
    {
      "cell_type": "markdown",
      "metadata": {
        "id": "ERrR6QaUQSgS"
      },
      "source": [
        "### Operasi Dasar Aritmatika"
      ]
    },
    {
      "cell_type": "code",
      "execution_count": 7,
      "metadata": {
        "cellView": "form",
        "colab": {
          "base_uri": "https://localhost:8080/"
        },
        "id": "IY9kAtgSXbC1",
        "outputId": "4769ca55-c62c-46bc-994e-a01859bf2839"
      },
      "outputs": [
        {
          "name": "stdout",
          "output_type": "stream",
          "text": [
            "10\n",
            "11\n",
            "21\n"
          ]
        }
      ],
      "source": [
        "#@title Penjumlahan\n",
        "\n",
        "a = 10\n",
        "b = 11\n",
        "c = a+b\n",
        "print(a)\n",
        "print(b)\n",
        "print(c)\n"
      ]
    },
    {
      "cell_type": "code",
      "execution_count": 8,
      "metadata": {
        "colab": {
          "base_uri": "https://localhost:8080/"
        },
        "id": "hU4IzUN6X4d0",
        "outputId": "c4fd2dde-56a5-4126-d609-d3e6b7e3a177"
      },
      "outputs": [
        {
          "name": "stdout",
          "output_type": "stream",
          "text": [
            "10\n",
            "11\n",
            "-1\n"
          ]
        }
      ],
      "source": [
        "#@title Pengurangan\n",
        "\n",
        "a = 10\n",
        "b = 11\n",
        "c = a-b\n",
        "print(a)\n",
        "print(b)\n",
        "print(c)\n"
      ]
    },
    {
      "cell_type": "code",
      "execution_count": 9,
      "metadata": {
        "colab": {
          "base_uri": "https://localhost:8080/"
        },
        "id": "daJ6np6xX71L",
        "outputId": "da07b678-fb8e-4e25-8ced-966ef174319e"
      },
      "outputs": [
        {
          "name": "stdout",
          "output_type": "stream",
          "text": [
            "10\n",
            "11\n",
            "110\n"
          ]
        }
      ],
      "source": [
        "#@title Perkalian\n",
        "\n",
        "a = 10\n",
        "b = 11\n",
        "c = a*b\n",
        "print(a)\n",
        "print(b)\n",
        "print(c)\n"
      ]
    },
    {
      "cell_type": "code",
      "execution_count": 10,
      "metadata": {
        "colab": {
          "base_uri": "https://localhost:8080/"
        },
        "id": "faU_c0bxYDM4",
        "outputId": "abac6f93-575a-4e85-f6c0-578754e29596"
      },
      "outputs": [
        {
          "name": "stdout",
          "output_type": "stream",
          "text": [
            "10\n",
            "3\n",
            "3.3333333333333335\n",
            "3\n"
          ]
        }
      ],
      "source": [
        "#@title Pembagian\n",
        "\n",
        "a = 10\n",
        "b = 3\n",
        "c = a/b\n",
        "d = a//b\n",
        "print(a)\n",
        "print(b)\n",
        "print(c)\n",
        "print(d)"
      ]
    },
    {
      "cell_type": "code",
      "execution_count": 11,
      "metadata": {
        "colab": {
          "base_uri": "https://localhost:8080/"
        },
        "id": "YE91t_RhYQRa",
        "outputId": "375d7c4e-1a87-4a41-ac0e-cf7718feaa38"
      },
      "outputs": [
        {
          "name": "stdout",
          "output_type": "stream",
          "text": [
            "2\n",
            "3\n",
            "8\n"
          ]
        }
      ],
      "source": [
        "#@title Pangkat\n",
        "\n",
        "a = 2\n",
        "b = 3\n",
        "c = a**b\n",
        "print(a)\n",
        "print(b)\n",
        "print(c)"
      ]
    },
    {
      "cell_type": "code",
      "execution_count": 12,
      "metadata": {
        "colab": {
          "base_uri": "https://localhost:8080/"
        },
        "id": "Nxg-aG2MYa_F",
        "outputId": "c9a24538-e36a-4318-bd11-2300f885db68"
      },
      "outputs": [
        {
          "name": "stdout",
          "output_type": "stream",
          "text": [
            "10\n",
            "3\n",
            "1\n"
          ]
        }
      ],
      "source": [
        "#@title Modulus\n",
        "\n",
        "a = 10\n",
        "b = 3\n",
        "c = a%b\n",
        "print(a)\n",
        "print(b)\n",
        "print(c)"
      ]
    },
    {
      "cell_type": "markdown",
      "metadata": {
        "id": "SXm9HGp9QVcC"
      },
      "source": [
        "### Operasi Dasar Text"
      ]
    },
    {
      "cell_type": "code",
      "execution_count": 13,
      "metadata": {
        "colab": {
          "base_uri": "https://localhost:8080/"
        },
        "id": "9c4TEXaIYfZj",
        "outputId": "4087fe96-4da3-42a5-ebc3-9497f8b09770"
      },
      "outputs": [
        {
          "name": "stdout",
          "output_type": "stream",
          "text": [
            "Selamat datang, tamu penginapan\n"
          ]
        }
      ],
      "source": [
        "kalimat = \"Selamat datang, tamu hotel\"\n",
        "hasil = kalimat.replace(\"hotel\", \"penginapan\")\n",
        "print(hasil)\n"
      ]
    },
    {
      "cell_type": "markdown",
      "metadata": {
        "id": "iEc9ZoY_QY8g"
      },
      "source": [
        "### Conditional Statement"
      ]
    },
    {
      "cell_type": "code",
      "execution_count": 14,
      "metadata": {
        "colab": {
          "base_uri": "https://localhost:8080/"
        },
        "id": "CnxUu893l7bX",
        "outputId": "fdf068b1-f603-4faa-f1dc-28a1b1185854"
      },
      "outputs": [
        {
          "name": "stdout",
          "output_type": "stream",
          "text": [
            "5\n"
          ]
        }
      ],
      "source": [
        "a = 10\n",
        "if a < 100:\n",
        "  b = a - 5\n",
        "elif a == 10:\n",
        "  b = 10-0\n",
        "else:\n",
        "  b = 100\n",
        "\n",
        "print(b)"
      ]
    },
    {
      "cell_type": "markdown",
      "metadata": {
        "id": "RT4pA8OeQcNY"
      },
      "source": [
        "### Perulangan"
      ]
    },
    {
      "cell_type": "code",
      "execution_count": 15,
      "metadata": {
        "colab": {
          "base_uri": "https://localhost:8080/"
        },
        "id": "7JEzVvdv8vMQ",
        "outputId": "511d5f1d-4445-4985-8cd6-f8fa025202a7"
      },
      "outputs": [
        {
          "name": "stdout",
          "output_type": "stream",
          "text": [
            "Perulangan ke:1\n",
            "Perulangan ke:2\n",
            "Perulangan ke:3\n",
            "Perulangan ke:4\n",
            "Perulangan ke:5\n",
            "Perulangan ke:6\n"
          ]
        }
      ],
      "source": [
        "for index in range(1, 7):\n",
        "  print(\"Perulangan ke:\"+str(index))"
      ]
    },
    {
      "cell_type": "code",
      "execution_count": 16,
      "metadata": {
        "colab": {
          "base_uri": "https://localhost:8080/"
        },
        "id": "4yxRKwhH9UdW",
        "outputId": "7011e6ba-884e-4fcf-f558-6bf7b25925b3"
      },
      "outputs": [
        {
          "name": "stdout",
          "output_type": "stream",
          "text": [
            "Perulangan ke:0\n",
            "Perulangan ke:1\n",
            "Perulangan ke:2\n",
            "Perulangan ke:3\n",
            "Perulangan ke:4\n"
          ]
        }
      ],
      "source": [
        "index = 0\n",
        "while index < 5:\n",
        "  print(\"Perulangan ke:\"+str(index))\n",
        "  index = index+1"
      ]
    },
    {
      "cell_type": "markdown",
      "metadata": {
        "id": "P51rX3evQdVQ"
      },
      "source": [
        "### Function"
      ]
    },
    {
      "cell_type": "code",
      "execution_count": 17,
      "metadata": {
        "id": "i0CAq4zWDSUD"
      },
      "outputs": [],
      "source": [
        "def hitung_luas_lingkaran(jari_jari):\n",
        "    pi = 3.14\n",
        "    luas = pi * jari_jari ** 2\n",
        "    return luas\n"
      ]
    },
    {
      "cell_type": "markdown",
      "metadata": {
        "id": "CLKKqt3DQfvK"
      },
      "source": [
        "### \"try-except-pass\""
      ]
    },
    {
      "cell_type": "code",
      "execution_count": 18,
      "metadata": {
        "id": "JXT0ZPF3LM-a"
      },
      "outputs": [
        {
          "name": "stdout",
          "output_type": "stream",
          "text": [
            "Terjadi kesalahan!\n"
          ]
        }
      ],
      "source": [
        "\n",
        "try:\n",
        "    # potensi kode yang menghasilkan exception\n",
        "    x = 5 / 0\n",
        "except:\n",
        "    # kode yang akan dieksekusi jika exception terjadi\n",
        "    print(\"Terjadi kesalahan!\")\n",
        "    pass\n"
      ]
    },
    {
      "cell_type": "markdown",
      "metadata": {
        "id": "PollZBYoQnGx"
      },
      "source": [
        "### User Input"
      ]
    },
    {
      "cell_type": "code",
      "execution_count": 19,
      "metadata": {
        "colab": {
          "base_uri": "https://localhost:8080/"
        },
        "id": "1pNDZbTiOReI",
        "outputId": "8b3edd46-1fc4-49ac-8f88-797bad5726b7"
      },
      "outputs": [
        {
          "name": "stdout",
          "output_type": "stream",
          "text": [
            "Nama saya abrory\n"
          ]
        }
      ],
      "source": [
        "nama = input(\"Masukkan Nama Anda\")\n",
        "print(\"Nama saya \" + nama)"
      ]
    },
    {
      "cell_type": "code",
      "execution_count": 20,
      "metadata": {
        "colab": {
          "base_uri": "https://localhost:8080/"
        },
        "id": "EzLkL_0-OW24",
        "outputId": "472f6ebc-03d6-4b6a-daec-dabca8aa8b7c"
      },
      "outputs": [
        {
          "name": "stdout",
          "output_type": "stream",
          "text": [
            "<class 'int'>\n"
          ]
        }
      ],
      "source": [
        "a = 100\n",
        "while a >= 100:\n",
        "  print(type(a))\n",
        "  a = a-50"
      ]
    },
    {
      "cell_type": "code",
      "execution_count": null,
      "metadata": {
        "id": "O_kpLSUqnTrp"
      },
      "outputs": [],
      "source": []
    }
  ],
  "metadata": {
    "colab": {
      "provenance": []
    },
    "kernelspec": {
      "display_name": "Python 3",
      "name": "python3"
    },
    "language_info": {
      "codemirror_mode": {
        "name": "ipython",
        "version": 3
      },
      "file_extension": ".py",
      "mimetype": "text/x-python",
      "name": "python",
      "nbconvert_exporter": "python",
      "pygments_lexer": "ipython3",
      "version": "3.11.7"
    }
  },
  "nbformat": 4,
  "nbformat_minor": 0
}
